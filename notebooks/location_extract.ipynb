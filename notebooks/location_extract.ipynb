{
 "cells": [
  {
   "cell_type": "code",
   "execution_count": 1,
   "metadata": {},
   "outputs": [],
   "source": [
    "import pandas as pd"
   ]
  },
  {
   "cell_type": "code",
   "execution_count": 2,
   "metadata": {},
   "outputs": [],
   "source": [
    "df = pd.read_csv('/Users/caophuong/Documents/Hackathon/SMU-Datathon-2025/datasets/output/entities_selected_info_df.csv')"
   ]
  },
  {
   "cell_type": "code",
   "execution_count": 3,
   "metadata": {},
   "outputs": [
    {
     "data": {
      "text/html": [
       "<div>\n",
       "<style scoped>\n",
       "    .dataframe tbody tr th:only-of-type {\n",
       "        vertical-align: middle;\n",
       "    }\n",
       "\n",
       "    .dataframe tbody tr th {\n",
       "        vertical-align: top;\n",
       "    }\n",
       "\n",
       "    .dataframe thead th {\n",
       "        text-align: right;\n",
       "    }\n",
       "</style>\n",
       "<table border=\"1\" class=\"dataframe\">\n",
       "  <thead>\n",
       "    <tr style=\"text-align: right;\">\n",
       "      <th></th>\n",
       "      <th>count</th>\n",
       "      <th>entity</th>\n",
       "      <th>label</th>\n",
       "      <th>location_info</th>\n",
       "      <th>latitude</th>\n",
       "      <th>longitude</th>\n",
       "      <th>class</th>\n",
       "      <th>type</th>\n",
       "      <th>addresstype</th>\n",
       "    </tr>\n",
       "  </thead>\n",
       "  <tbody>\n",
       "    <tr>\n",
       "      <th>0</th>\n",
       "      <td>2</td>\n",
       "      <td>Starbucks</td>\n",
       "      <td>ORG</td>\n",
       "      <td>{'place_id': 347438031, 'licence': 'Data © Ope...</td>\n",
       "      <td>44.899433</td>\n",
       "      <td>-91.932444</td>\n",
       "      <td>amenity</td>\n",
       "      <td>cafe</td>\n",
       "      <td>amenity</td>\n",
       "    </tr>\n",
       "    <tr>\n",
       "      <th>1</th>\n",
       "      <td>1</td>\n",
       "      <td>National Labor Relations Board</td>\n",
       "      <td>ORG</td>\n",
       "      <td>{'place_id': 346578673, 'licence': 'Data © Ope...</td>\n",
       "      <td>40.691769</td>\n",
       "      <td>-89.590029</td>\n",
       "      <td>office</td>\n",
       "      <td>government</td>\n",
       "      <td>office</td>\n",
       "    </tr>\n",
       "    <tr>\n",
       "      <th>2</th>\n",
       "      <td>1</td>\n",
       "      <td>Mara-Louise Anzalone</td>\n",
       "      <td>PER</td>\n",
       "      <td>(None, None)</td>\n",
       "      <td>NaN</td>\n",
       "      <td>NaN</td>\n",
       "      <td>NaN</td>\n",
       "      <td>NaN</td>\n",
       "      <td>NaN</td>\n",
       "    </tr>\n",
       "    <tr>\n",
       "      <th>3</th>\n",
       "      <td>393</td>\n",
       "      <td>Singapore</td>\n",
       "      <td>LOC</td>\n",
       "      <td>{'place_id': 236496004, 'licence': 'Data © Ope...</td>\n",
       "      <td>1.357107</td>\n",
       "      <td>103.819499</td>\n",
       "      <td>boundary</td>\n",
       "      <td>administrative</td>\n",
       "      <td>country</td>\n",
       "    </tr>\n",
       "    <tr>\n",
       "      <th>4</th>\n",
       "      <td>1</td>\n",
       "      <td>Su Wenqiang</td>\n",
       "      <td>PER</td>\n",
       "      <td>(None, None)</td>\n",
       "      <td>NaN</td>\n",
       "      <td>NaN</td>\n",
       "      <td>NaN</td>\n",
       "      <td>NaN</td>\n",
       "      <td>NaN</td>\n",
       "    </tr>\n",
       "  </tbody>\n",
       "</table>\n",
       "</div>"
      ],
      "text/plain": [
       "   count                          entity label  \\\n",
       "0      2                       Starbucks   ORG   \n",
       "1      1  National Labor Relations Board   ORG   \n",
       "2      1            Mara-Louise Anzalone   PER   \n",
       "3    393                       Singapore   LOC   \n",
       "4      1                     Su Wenqiang   PER   \n",
       "\n",
       "                                       location_info   latitude   longitude  \\\n",
       "0  {'place_id': 347438031, 'licence': 'Data © Ope...  44.899433  -91.932444   \n",
       "1  {'place_id': 346578673, 'licence': 'Data © Ope...  40.691769  -89.590029   \n",
       "2                                       (None, None)        NaN         NaN   \n",
       "3  {'place_id': 236496004, 'licence': 'Data © Ope...   1.357107  103.819499   \n",
       "4                                       (None, None)        NaN         NaN   \n",
       "\n",
       "      class            type addresstype  \n",
       "0   amenity            cafe     amenity  \n",
       "1    office      government      office  \n",
       "2       NaN             NaN         NaN  \n",
       "3  boundary  administrative     country  \n",
       "4       NaN             NaN         NaN  "
      ]
     },
     "execution_count": 3,
     "metadata": {},
     "output_type": "execute_result"
    }
   ],
   "source": [
    "df.head()"
   ]
  },
  {
   "cell_type": "code",
   "execution_count": 4,
   "metadata": {},
   "outputs": [],
   "source": [
    "df = df[['count', 'entity', 'label', 'latitude', 'longitude']]"
   ]
  },
  {
   "cell_type": "code",
   "execution_count": 5,
   "metadata": {},
   "outputs": [],
   "source": [
    "df = df[~df['latitude'].isnull() & ~df['longitude'].isnull()]"
   ]
  },
  {
   "cell_type": "code",
   "execution_count": 6,
   "metadata": {},
   "outputs": [
    {
     "data": {
      "text/html": [
       "<div>\n",
       "<style scoped>\n",
       "    .dataframe tbody tr th:only-of-type {\n",
       "        vertical-align: middle;\n",
       "    }\n",
       "\n",
       "    .dataframe tbody tr th {\n",
       "        vertical-align: top;\n",
       "    }\n",
       "\n",
       "    .dataframe thead th {\n",
       "        text-align: right;\n",
       "    }\n",
       "</style>\n",
       "<table border=\"1\" class=\"dataframe\">\n",
       "  <thead>\n",
       "    <tr style=\"text-align: right;\">\n",
       "      <th></th>\n",
       "      <th>count</th>\n",
       "      <th>entity</th>\n",
       "      <th>label</th>\n",
       "      <th>latitude</th>\n",
       "      <th>longitude</th>\n",
       "    </tr>\n",
       "  </thead>\n",
       "  <tbody>\n",
       "    <tr>\n",
       "      <th>0</th>\n",
       "      <td>2</td>\n",
       "      <td>Starbucks</td>\n",
       "      <td>ORG</td>\n",
       "      <td>44.899433</td>\n",
       "      <td>-91.932444</td>\n",
       "    </tr>\n",
       "    <tr>\n",
       "      <th>1</th>\n",
       "      <td>1</td>\n",
       "      <td>National Labor Relations Board</td>\n",
       "      <td>ORG</td>\n",
       "      <td>40.691769</td>\n",
       "      <td>-89.590029</td>\n",
       "    </tr>\n",
       "    <tr>\n",
       "      <th>3</th>\n",
       "      <td>393</td>\n",
       "      <td>Singapore</td>\n",
       "      <td>LOC</td>\n",
       "      <td>1.357107</td>\n",
       "      <td>103.819499</td>\n",
       "    </tr>\n",
       "    <tr>\n",
       "      <th>5</th>\n",
       "      <td>4</td>\n",
       "      <td>Fujian</td>\n",
       "      <td>LOC</td>\n",
       "      <td>26.193218</td>\n",
       "      <td>118.220872</td>\n",
       "    </tr>\n",
       "    <tr>\n",
       "      <th>7</th>\n",
       "      <td>1</td>\n",
       "      <td>Lewis Road</td>\n",
       "      <td>LOC</td>\n",
       "      <td>51.431811</td>\n",
       "      <td>0.116715</td>\n",
       "    </tr>\n",
       "  </tbody>\n",
       "</table>\n",
       "</div>"
      ],
      "text/plain": [
       "   count                          entity label   latitude   longitude\n",
       "0      2                       Starbucks   ORG  44.899433  -91.932444\n",
       "1      1  National Labor Relations Board   ORG  40.691769  -89.590029\n",
       "3    393                       Singapore   LOC   1.357107  103.819499\n",
       "5      4                          Fujian   LOC  26.193218  118.220872\n",
       "7      1                      Lewis Road   LOC  51.431811    0.116715"
      ]
     },
     "execution_count": 6,
     "metadata": {},
     "output_type": "execute_result"
    }
   ],
   "source": [
    "df.head()"
   ]
  },
  {
   "cell_type": "code",
   "execution_count": 7,
   "metadata": {},
   "outputs": [
    {
     "data": {
      "text/plain": [
       "3830"
      ]
     },
     "execution_count": 7,
     "metadata": {},
     "output_type": "execute_result"
    }
   ],
   "source": [
    "len(df)"
   ]
  },
  {
   "cell_type": "code",
   "execution_count": 16,
   "metadata": {},
   "outputs": [],
   "source": [
    "import folium"
   ]
  },
  {
   "cell_type": "code",
   "execution_count": 20,
   "metadata": {},
   "outputs": [],
   "source": [
    "import os\n",
    "path = os.getcwd()"
   ]
  },
  {
   "cell_type": "code",
   "execution_count": 23,
   "metadata": {},
   "outputs": [],
   "source": [
    "parent = os.path.dirname(path)"
   ]
  },
  {
   "cell_type": "code",
   "execution_count": 24,
   "metadata": {},
   "outputs": [],
   "source": [
    "# Create a base map\n",
    "world_map = folium.Map(location=[20, 0], zoom_start=2)\n",
    "\n",
    "# Add points to the map\n",
    "for _, row in df.iterrows():\n",
    "    # Create a popup with entity, latitude, longitude, and count\n",
    "    popup_content = f\"\"\"\n",
    "    <b>Entity:</b> {row['entity']}<br>\n",
    "    <b>Latitude:</b> {row['latitude']}<br>\n",
    "    <b>Longitude:</b> {row['longitude']}<br>\n",
    "    <b>Count:</b> {row['count']}\n",
    "    \"\"\"\n",
    "    \n",
    "    folium.CircleMarker(\n",
    "        location=[row[\"latitude\"], row[\"longitude\"]],\n",
    "        radius=row[\"count\"] * 0.1,  # Adjust the size based on count (scaled down for better visibility)\n",
    "        popup=folium.Popup(popup_content, max_width=300),  # Enhanced popup with more details\n",
    "        color=\"blue\",\n",
    "        fill=True,\n",
    "        fill_color=\"blue\",\n",
    "        fill_opacity=0.6\n",
    "    ).add_to(world_map)\n",
    "\n",
    "# Save map to an HTML file\n",
    "world_map.save(f\"{parent}/static/images/entities_map.html\")"
   ]
  },
  {
   "cell_type": "code",
   "execution_count": null,
   "metadata": {},
   "outputs": [],
   "source": []
  }
 ],
 "metadata": {
  "kernelspec": {
   "display_name": "smu",
   "language": "python",
   "name": "python3"
  },
  "language_info": {
   "codemirror_mode": {
    "name": "ipython",
    "version": 3
   },
   "file_extension": ".py",
   "mimetype": "text/x-python",
   "name": "python",
   "nbconvert_exporter": "python",
   "pygments_lexer": "ipython3",
   "version": "3.13.1"
  }
 },
 "nbformat": 4,
 "nbformat_minor": 2
}
