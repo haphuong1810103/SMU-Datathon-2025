{
 "cells": [
  {
   "cell_type": "code",
   "execution_count": 2,
   "metadata": {},
   "outputs": [],
   "source": [
    "import pandas as pd"
   ]
  },
  {
   "cell_type": "code",
   "execution_count": 10,
   "metadata": {},
   "outputs": [],
   "source": [
    "pdf = pd.read_csv('/Users/caophuong/Documents/Hackathon/SMU-Datathon-2025/datasets/pdf.csv')"
   ]
  },
  {
   "cell_type": "code",
   "execution_count": 11,
   "metadata": {},
   "outputs": [
    {
     "data": {
      "text/html": [
       "<div>\n",
       "<style scoped>\n",
       "    .dataframe tbody tr th:only-of-type {\n",
       "        vertical-align: middle;\n",
       "    }\n",
       "\n",
       "    .dataframe tbody tr th {\n",
       "        vertical-align: top;\n",
       "    }\n",
       "\n",
       "    .dataframe thead th {\n",
       "        text-align: right;\n",
       "    }\n",
       "</style>\n",
       "<table border=\"1\" class=\"dataframe\">\n",
       "  <thead>\n",
       "    <tr style=\"text-align: right;\">\n",
       "      <th></th>\n",
       "      <th>PDF Path</th>\n",
       "      <th>Text</th>\n",
       "      <th>entities</th>\n",
       "      <th>topic</th>\n",
       "      <th>country</th>\n",
       "      <th>case_number</th>\n",
       "      <th>Summary</th>\n",
       "    </tr>\n",
       "  </thead>\n",
       "  <tbody>\n",
       "    <tr>\n",
       "      <th>0</th>\n",
       "      <td>1.pdf</td>\n",
       "      <td>Pristina Airport – Possible administrative irr...</td>\n",
       "      <td>[{'span': 'Pristina Airport', 'label': 'LOC', ...</td>\n",
       "      <td>contract law</td>\n",
       "      <td>NaN</td>\n",
       "      <td>NaN</td>\n",
       "      <td>Two companies with the same owner took part at...</td>\n",
       "    </tr>\n",
       "    <tr>\n",
       "      <th>1</th>\n",
       "      <td>1.pdf</td>\n",
       "      <td>Investigative details\\n\\nIn his/her interviews...</td>\n",
       "      <td>[{'span': 'Kosovo Organised Crime Bureau', 'la...</td>\n",
       "      <td>labor law</td>\n",
       "      <td>NaN</td>\n",
       "      <td>case no. 286/04</td>\n",
       "      <td>There were doubts whether both companies Vendo...</td>\n",
       "    </tr>\n",
       "    <tr>\n",
       "      <th>2</th>\n",
       "      <td>10.pdf</td>\n",
       "      <td>\"An interoffice memorandum providing an “outst...</td>\n",
       "      <td>[{'span': 'Cargo Apron', 'label': 'ORG', 'scor...</td>\n",
       "      <td>intellectual property</td>\n",
       "      <td>NaN</td>\n",
       "      <td>NaN</td>\n",
       "      <td>An interoffice memorandum providing an “outsta...</td>\n",
       "    </tr>\n",
       "    <tr>\n",
       "      <th>3</th>\n",
       "      <td>10.pdf</td>\n",
       "      <td>\"Allegation 2 &amp; 3:\\n\\n(Specifically, three of ...</td>\n",
       "      <td>[{'span': 'Office of the Legal Adviser', 'labe...</td>\n",
       "      <td>intellectual property</td>\n",
       "      <td>NaN</td>\n",
       "      <td>NaN</td>\n",
       "      <td>The evaluation report dated 2 August 2001 is s...</td>\n",
       "    </tr>\n",
       "    <tr>\n",
       "      <th>4</th>\n",
       "      <td>10.pdf</td>\n",
       "      <td>\"When asked about this in interview, the Divis...</td>\n",
       "      <td>[{'span': 'PEAP Official', 'label': 'ORG', 'sc...</td>\n",
       "      <td>intellectual property</td>\n",
       "      <td>NaN</td>\n",
       "      <td>NaN</td>\n",
       "      <td>The ITF notes that the PEAP Official indicated...</td>\n",
       "    </tr>\n",
       "  </tbody>\n",
       "</table>\n",
       "</div>"
      ],
      "text/plain": [
       "  PDF Path                                               Text  \\\n",
       "0    1.pdf  Pristina Airport – Possible administrative irr...   \n",
       "1    1.pdf  Investigative details\\n\\nIn his/her interviews...   \n",
       "2   10.pdf  \"An interoffice memorandum providing an “outst...   \n",
       "3   10.pdf  \"Allegation 2 & 3:\\n\\n(Specifically, three of ...   \n",
       "4   10.pdf  \"When asked about this in interview, the Divis...   \n",
       "\n",
       "                                            entities                  topic  \\\n",
       "0  [{'span': 'Pristina Airport', 'label': 'LOC', ...           contract law   \n",
       "1  [{'span': 'Kosovo Organised Crime Bureau', 'la...              labor law   \n",
       "2  [{'span': 'Cargo Apron', 'label': 'ORG', 'scor...  intellectual property   \n",
       "3  [{'span': 'Office of the Legal Adviser', 'labe...  intellectual property   \n",
       "4  [{'span': 'PEAP Official', 'label': 'ORG', 'sc...  intellectual property   \n",
       "\n",
       "  country      case_number                                            Summary  \n",
       "0     NaN              NaN  Two companies with the same owner took part at...  \n",
       "1     NaN  case no. 286/04  There were doubts whether both companies Vendo...  \n",
       "2     NaN              NaN  An interoffice memorandum providing an “outsta...  \n",
       "3     NaN              NaN  The evaluation report dated 2 August 2001 is s...  \n",
       "4     NaN              NaN  The ITF notes that the PEAP Official indicated...  "
      ]
     },
     "execution_count": 11,
     "metadata": {},
     "output_type": "execute_result"
    }
   ],
   "source": [
    "pdf.head()"
   ]
  },
  {
   "cell_type": "code",
   "execution_count": 5,
   "metadata": {},
   "outputs": [],
   "source": [
    "url = pd.read_csv('/Users/caophuong/Documents/Hackathon/SMU-Datathon-2025/datasets/url.csv')"
   ]
  },
  {
   "cell_type": "code",
   "execution_count": 6,
   "metadata": {},
   "outputs": [
    {
     "data": {
      "text/plain": [
       "Index(['Link', 'Text', 'entities', 'topic', 'country', 'Summary'], dtype='object')"
      ]
     },
     "execution_count": 6,
     "metadata": {},
     "output_type": "execute_result"
    }
   ],
   "source": [
    "url.columns"
   ]
  },
  {
   "cell_type": "code",
   "execution_count": 7,
   "metadata": {},
   "outputs": [],
   "source": [
    "import os"
   ]
  },
  {
   "cell_type": "code",
   "execution_count": 8,
   "metadata": {},
   "outputs": [],
   "source": [
    "path = os.getcwd()"
   ]
  },
  {
   "cell_type": "code",
   "execution_count": 9,
   "metadata": {},
   "outputs": [
    {
     "data": {
      "text/plain": [
       "'/Users/caophuong/Documents/Hackathon/SMU-Datathon-2025/notebooks'"
      ]
     },
     "execution_count": 9,
     "metadata": {},
     "output_type": "execute_result"
    }
   ],
   "source": [
    "path"
   ]
  },
  {
   "cell_type": "code",
   "execution_count": null,
   "metadata": {},
   "outputs": [],
   "source": [
    "path = os.getcwd(), f'{path}/datasets/input/pdfs'"
   ]
  }
 ],
 "metadata": {
  "kernelspec": {
   "display_name": "smu",
   "language": "python",
   "name": "python3"
  },
  "language_info": {
   "codemirror_mode": {
    "name": "ipython",
    "version": 3
   },
   "file_extension": ".py",
   "mimetype": "text/x-python",
   "name": "python",
   "nbconvert_exporter": "python",
   "pygments_lexer": "ipython3",
   "version": "3.13.1"
  }
 },
 "nbformat": 4,
 "nbformat_minor": 2
}
